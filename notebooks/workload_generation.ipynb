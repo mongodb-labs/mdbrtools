{
 "cells": [
  {
   "cell_type": "markdown",
   "metadata": {},
   "source": [
    "# Workload Generation Examples\n"
   ]
  },
  {
   "cell_type": "markdown",
   "metadata": {},
   "source": [
    "### Python Path\n",
    "\n",
    "This notebook requires the `mdbrtools` package to be in the Python path.\n",
    "This code block is only required if you cloned the github repository and did not install `mdbrtools` via pip.\n",
    "\n",
    "Alternatively, you can install `mdbrtools` as a development dependency with `pip install -e .`\n"
   ]
  },
  {
   "cell_type": "code",
   "execution_count": 2,
   "metadata": {},
   "outputs": [],
   "source": [
    "import sys\n",
    "\n",
    "sys.path.append(\"..\")"
   ]
  },
  {
   "cell_type": "markdown",
   "metadata": {},
   "source": [
    "## Simple Workload Generation\n",
    "\n",
    "The Workload Generator takes as input either a `MongoCollection` object (see `./mdbrtools/mongodb.py`) or a list of Python dictionaries.\n",
    "\n",
    "### Loading JSON Data\n",
    "\n",
    "In this example, we load a JSON file and parse it into a list of dictionaries.\n"
   ]
  },
  {
   "cell_type": "code",
   "execution_count": 1,
   "metadata": {},
   "outputs": [
    {
     "name": "stdout",
     "output_type": "stream",
     "text": [
      "[{'age': 30, 'email': 'alice@example.com', 'id': 1, 'name': 'Alice'},\n",
      " {'age': 25,\n",
      "  'email': 'bob@example.com',\n",
      "  'id': 2,\n",
      "  'name': 'Bob',\n",
      "  'phone': '555-1234'},\n",
      " {'email': 'charlie@example.com',\n",
      "  'id': 3,\n",
      "  'name': 'Charlie',\n",
      "  'preferences': {'newsletter': True, 'notifications': ['email', 'sms']}}]\n"
     ]
    }
   ],
   "source": [
    "import json\n",
    "from pprint import pprint\n",
    "\n",
    "# load example data\n",
    "with open(\"./example_docs.json\") as f:\n",
    "    docs = json.load(f)\n",
    "\n",
    "# print some example docs\n",
    "pprint(docs[:3])"
   ]
  },
  {
   "cell_type": "markdown",
   "metadata": {},
   "source": [
    "### Generating a random workload\n"
   ]
  },
  {
   "cell_type": "code",
   "execution_count": 5,
   "metadata": {},
   "outputs": [
    {
     "name": "stderr",
     "output_type": "stream",
     "text": [
      "Parsing schema: 100%|██████████| 10/10 [00:00<00:00, 50533.78it/s]\n"
     ]
    },
    {
     "name": "stderr",
     "output_type": "stream",
     "text": [
      "Generating workload: 100%|██████████| 10/10 [00:00<00:00, 6631.31it/s]"
     ]
    },
    {
     "name": "stdout",
     "output_type": "stream",
     "text": [
      "\n",
      "Workload:\n",
      "{'address.street': '456 Oak St', 'email': {'$exists': True}, 'address.zipcode': {'$ne': '67890'}, 'age': {'$gte': 30}, 'address.city': 'Somewhere', 'name': {'$in': ['Alice', 'Frank', 'Judy', 'Charlie', 'Eve', 'Heidi']}, 'id': {'$lte': 6}}\n",
      "{'name': 'Ivan', 'hobbies': {'$in': ['hiking', 'photography', 'cycling', 'gaming']}, 'phone': {'$lte': '555-1234'}, 'email': {'$ne': 'ivan@example.com'}, 'age': {'$gt': 40}, 'id': {'$lt': 9}}\n",
      "{'preferences.newsletter': {'$ne': False}, 'id': {'$gt': 3}, 'age': {'$exists': False}, 'address.city': 'Anywhere', 'hobbies': {'$size': 3}, 'address.street': {'$lte': '123 Elm St'}}\n",
      "{'address.city': {'$nin': ['Anywhere', 'Elsewhere']}, 'email': 'charlie@example.com', 'hobbies': {'$gte': 'cycling'}, 'preferences.notifications': {'$lte': 'email'}, 'address.zipcode': {'$gte': '12345'}, 'id': {'$lte': 6}, 'preferences.newsletter': True, 'phone': {'$in': ['555-8765']}, 'age': {'$gte': 40}}\n",
      "{'hobbies': {'$gte': 'photography'}, 'preferences.newsletter': False, 'name': {'$gte': 'Judy'}, 'id': {'$gte': 3}, 'preferences.notifications': 'email', 'age': {'$lte': 25}, 'address.city': 'Elsewhere', 'email': {'$ne': 'judy@example.com'}, 'phone': {'$gte': '555-8765'}, 'address.zipcode': {'$gte': '67890'}}\n",
      "{'address.zipcode': '12345'}\n",
      "{'phone': {'$ne': '555-8765'}}\n",
      "{'address.street': '789 Pine St', 'phone': {'$exists': False}, 'preferences.notifications': {'$in': ['email']}, 'age': {'$lt': 30}}\n",
      "{'name': 'David', 'email': {'$in': ['charlie@example.com', 'ivan@example.com', 'grace@example.com', 'judy@example.com']}, 'age': {'$exists': True}, 'preferences.newsletter': True, 'phone': '555-5678', 'hobbies': 'gaming', 'address.zipcode': '67890', 'preferences.notifications': {'$gte': 'email'}, 'address.street': {'$lte': '789 Pine St'}}\n",
      "{'email': {'$nin': ['charlie@example.com', 'grace@example.com', 'alice@example.com', 'judy@example.com', 'heidi@example.com', 'bob@example.com', 'ivan@example.com']}, 'preferences.newsletter': {'$ne': True}, 'address.zipcode': {'$in': ['12345']}, 'address.city': 'Anywhere', 'age': {'$exists': True}, 'name': 'Frank'}\n"
     ]
    },
    {
     "name": "stderr",
     "output_type": "stream",
     "text": [
      "\n"
     ]
    }
   ],
   "source": [
    "from mdbrtools.workload import Workload\n",
    "\n",
    "# generate a random workload\n",
    "workload = Workload()\n",
    "workload.generate(docs, num_queries=10)\n",
    "\n",
    "# print queries as MQL syntax\n",
    "print(\"\\nWorkload:\")\n",
    "for query in workload:\n",
    "    print(query.to_mql())"
   ]
  },
  {
   "cell_type": "markdown",
   "metadata": {},
   "source": [
    "### Generating a workload with restrictions\n",
    "\n",
    "In this next example, we force exactly 2 predictes per query, and limit the allowed fields to `address.street` and `preferences.newsletter`.\n",
    "\n",
    "For even more fine-grained control over the created queries, modify the `operator_config` object. You can\n",
    "\n",
    "- define which query operators (such as $in, $lt, ...) are allowed for particular data types\n",
    "- choose the probabilities (`weights`) with which these operators are selected\n",
    "- enable/disable special operators `$exists`, `$type` and `$size` and their probabilities to be selected (`chance`).\n",
    "\n",
    "See the `DEFAULT_OPERATOR_CONFIG` in `./mdbrtools/workload.py`.\n"
   ]
  },
  {
   "cell_type": "code",
   "execution_count": 6,
   "metadata": {},
   "outputs": [
    {
     "name": "stderr",
     "output_type": "stream",
     "text": [
      "Parsing schema: 100%|██████████| 10/10 [00:00<00:00, 70492.50it/s]\n",
      "Generating workload: 100%|██████████| 10/10 [00:00<00:00, 38657.18it/s]"
     ]
    },
    {
     "name": "stdout",
     "output_type": "stream",
     "text": [
      "\n",
      "Workload:\n",
      "{'address.street': {'$ne': '456 Oak St'}, 'preferences.newsletter': False}\n",
      "{'address.street': {'$ne': '123 Elm St'}, 'preferences.newsletter': False}\n",
      "{'preferences.newsletter': False, 'address.street': {'$ne': '123 Elm St'}}\n",
      "{'address.street': '123 Elm St', 'preferences.newsletter': False}\n",
      "{'preferences.newsletter': False, 'address.street': '789 Pine St'}\n",
      "{'address.street': {'$nin': ['789 Pine St']}, 'preferences.newsletter': True}\n",
      "{'preferences.newsletter': False, 'address.street': '123 Elm St'}\n",
      "{'address.street': {'$in': ['123 Elm St', '789 Pine St']}, 'preferences.newsletter': True}\n",
      "{'address.street': '123 Elm St', 'preferences.newsletter': True}\n",
      "{'preferences.newsletter': True, 'address.street': '456 Oak St'}\n"
     ]
    },
    {
     "name": "stderr",
     "output_type": "stream",
     "text": [
      "\n"
     ]
    }
   ],
   "source": [
    "from mdbrtools.workload import Workload\n",
    "\n",
    "# generate a random workload\n",
    "workload = Workload()\n",
    "workload.generate(\n",
    "    docs,\n",
    "    num_queries=10,\n",
    "    min_predicates=2,\n",
    "    max_predicates=2,\n",
    "    allowed_fields=[\"address.street\", \"preferences.newsletter\"],\n",
    ")\n",
    "\n",
    "# print queries as MQL syntax\n",
    "print(\"\\nWorkload:\")\n",
    "for query in workload:\n",
    "    print(query.to_mql())"
   ]
  },
  {
   "cell_type": "markdown",
   "metadata": {},
   "source": [
    "### Enforcing Selectivity of queries\n",
    "\n",
    "Min. and max. selectivity restrictions can be enforced, but currently this is only supported when connecting to a live MongoDB instance, and not when passing in a list of dictionaries.\n",
    "\n",
    "In addition, you need to pass an `estimator` object to the `Workload.generate()` method.\n",
    "\n",
    "Here is some example code to demonstrate this. This requires a MongoDB instance running locally on port `27017` and the above dataset in the `test.example_docs` collection.\n",
    "\n",
    "You can import the data with the `mongoimport` tool:\n",
    "\n",
    "```bash\n",
    "mongoimport notebooks/example_docs.json --jsonArray -d test -c example_docs --drop\n",
    "```\n"
   ]
  },
  {
   "cell_type": "code",
   "execution_count": 15,
   "metadata": {},
   "outputs": [
    {
     "name": "stderr",
     "output_type": "stream",
     "text": [
      "Parsing schema: 10it [00:00, 7396.06it/s]\n"
     ]
    },
    {
     "name": "stdout",
     "output_type": "stream",
     "text": [
      "10 documents in collection. limit is 0\n"
     ]
    },
    {
     "name": "stderr",
     "output_type": "stream",
     "text": [
      "Generating workload: 100%|██████████| 10/10 [00:00<00:00, 328.20it/s]"
     ]
    },
    {
     "name": "stdout",
     "output_type": "stream",
     "text": [
      "\n",
      "Workload:\n",
      "{'hobbies': 'photography'} -> query matches 1 docs\n",
      "{'phone': {'$exists': True}} -> query matches 3 docs\n",
      "{'id': {'$gte': 9}} -> query matches 2 docs\n",
      "{'age': {'$lt': 28}} -> query matches 2 docs\n",
      "{'address.zipcode': {'$lte': '67890'}} -> query matches 2 docs\n",
      "{'hobbies': {'$lte': 'cycling'}} -> query matches 1 docs\n",
      "{'email': 'charlie@example.com'} -> query matches 1 docs\n",
      "{'preferences.notifications': {'$lte': 'sms'}} -> query matches 2 docs\n",
      "{'id': {'$gt': 8}} -> query matches 2 docs\n",
      "{'name': 'Bob'} -> query matches 1 docs\n"
     ]
    },
    {
     "name": "stderr",
     "output_type": "stream",
     "text": [
      "\n"
     ]
    }
   ],
   "source": [
    "from mdbrtools.mongodb import MongoCollection\n",
    "from mdbrtools.estimator import SampleEstimator\n",
    "\n",
    "# create MongoCollection wrapper\n",
    "collection = MongoCollection(\"mongodb://localhost:27017\", \"test\", \"example_docs\")\n",
    "\n",
    "# create Estimator\n",
    "# here we use a sample_ratio of 1.0 because of the small dataset size\n",
    "# for larger datasets, lower this number for faster estimates\n",
    "estimator = SampleEstimator(collection, sample_ratio=1.0)\n",
    "\n",
    "workload = Workload()\n",
    "workload.generate(\n",
    "    collection,\n",
    "    estimator=estimator,\n",
    "    min_selectivity=0.1,  # match at least 10% of docs (1)\n",
    "    max_selectivity=0.3,  # match at most 30% of docs (3)\n",
    "    max_predicates=1,  # only contain single predicate\n",
    "    num_queries=10,\n",
    ")\n",
    "\n",
    "print(\"\\nWorkload:\")\n",
    "for query in workload:\n",
    "    print(query.to_mql(), end=\" -> \")\n",
    "\n",
    "    # we also print the actual number of documents matched\n",
    "    matched_docs = collection.collection.count_documents(query.to_mql())\n",
    "    print(f\"query matches {matched_docs} docs\")"
   ]
  }
 ],
 "metadata": {
  "kernelspec": {
   "display_name": ".venv",
   "language": "python",
   "name": "python3"
  },
  "language_info": {
   "codemirror_mode": {
    "name": "ipython",
    "version": 3
   },
   "file_extension": ".py",
   "mimetype": "text/x-python",
   "name": "python",
   "nbconvert_exporter": "python",
   "pygments_lexer": "ipython3",
   "version": "3.10.12"
  }
 },
 "nbformat": 4,
 "nbformat_minor": 2
}
